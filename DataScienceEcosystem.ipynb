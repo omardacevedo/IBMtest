{
 "cells": [
  {
   "cell_type": "markdown",
   "id": "2494e6f0-5815-4a12-b97a-296acbe3e169",
   "metadata": {},
   "source": [
    "# Data Science Tools and Ecosystem"
   ]
  },
  {
   "cell_type": "markdown",
   "id": "fdf4e53c-2843-4a8e-a8c4-b2d54fe9d2d1",
   "metadata": {},
   "source": [
    " In this notebook, Data Science Tools and Ecosystem are summarized."
   ]
  },
  {
   "cell_type": "markdown",
   "id": "4d66a6fd-fe97-472d-85d4-5b4ec56b8797",
   "metadata": {},
   "source": [
    "***Objectives:***\n",
    "- List popular languages for Data Science.\r\n",
    "- Identify common libraries used in Data Science.\r\n",
    "- Introduce open-source development tools used in Data Science."
   ]
  },
  {
   "cell_type": "markdown",
   "id": "7d2b3cbe-cd59-4d13-8d8b-66ddddc8b8ba",
   "metadata": {},
   "source": [
    "Some of the popular languages that Data Scientists use are:\n",
    "1. Python\n",
    "2. R\n",
    "3. SQLSQL\r\n"
   ]
  },
  {
   "cell_type": "markdown",
   "id": "30826d04-8634-4cb1-bf2b-d8a95062c234",
   "metadata": {},
   "source": [
    " Some of the commonly used libraries used by Data Scientists include:\n",
    "1. Numpy\n",
    "2. Pandas\n",
    "3. Maplotlib\n",
    "   "
   ]
  },
  {
   "cell_type": "markdown",
   "id": "d1910a25-e931-4dbc-b2bd-00352629152e",
   "metadata": {},
   "source": [
    "\n",
    "| Data Science Tools |\r\n",
    "|----------------------------------|\r\n",
    "| Jupyter Notebook                 |\r\n",
    "| RStudio                          |\r\n",
    "| Spyder                           |\r\n"
   ]
  },
  {
   "cell_type": "markdown",
   "id": "4cfb6003-f7b8-49a6-94d3-59f753cd4a74",
   "metadata": {},
   "source": [
    "### Below are a few examples of evaluating arithmetic expressions in Python.\n"
   ]
  },
  {
   "cell_type": "code",
   "execution_count": 2,
   "id": "04f3b23b-73a9-438c-bb60-b62efe60856c",
   "metadata": {},
   "outputs": [
    {
     "name": "stdout",
     "output_type": "stream",
     "text": [
      "17\n"
     ]
    }
   ],
   "source": [
    "#  This a simple arithmetic expression to mutiply then add integers.\n",
    "result = (3*4)+5\n",
    "print(result)"
   ]
  },
  {
   "cell_type": "code",
   "execution_count": 5,
   "id": "a974c791-e2da-47dd-b3e5-c642bdc6d875",
   "metadata": {},
   "outputs": [
    {
     "name": "stdout",
     "output_type": "stream",
     "text": [
      "3.3333\n"
     ]
    }
   ],
   "source": [
    "#  This will convert 200 minutes to hours by diving by 60.\n",
    "minutes = 200\n",
    "hour = minutes/60\n",
    "print(round(hour,4))"
   ]
  },
  {
   "cell_type": "markdown",
   "id": "2c6742c4-708c-4439-9b96-c3fdf7ef1140",
   "metadata": {},
   "source": [
    "## Autor\n",
    "Omar Danilo Acevedo Rojas"
   ]
  }
 ],
 "metadata": {
  "kernelspec": {
   "display_name": "Python 3 (ipykernel)",
   "language": "python",
   "name": "python3"
  },
  "language_info": {
   "codemirror_mode": {
    "name": "ipython",
    "version": 3
   },
   "file_extension": ".py",
   "mimetype": "text/x-python",
   "name": "python",
   "nbconvert_exporter": "python",
   "pygments_lexer": "ipython3",
   "version": "3.11.5"
  }
 },
 "nbformat": 4,
 "nbformat_minor": 5
}
